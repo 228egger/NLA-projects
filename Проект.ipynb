{
  "cells": [
    {
      "cell_type": "code",
      "source": [
        "pip install sfpy"
      ],
      "metadata": {
        "colab": {
          "base_uri": "https://localhost:8080/"
        },
        "id": "LNC8PNg8ksl-",
        "outputId": "fac5bc8d-bc75-461d-f327-0999a3ab253b"
      },
      "execution_count": null,
      "outputs": [
        {
          "output_type": "stream",
          "name": "stdout",
          "text": [
            "Collecting sfpy\n",
            "  Downloading sfpy-0.6.0.tar.gz (343 kB)\n",
            "\u001b[2K     \u001b[90m━━━━━━━━━━━━━━━━━━━━━━━━━━━━━━━━━━━━━━━━\u001b[0m \u001b[32m343.3/343.3 kB\u001b[0m \u001b[31m6.1 MB/s\u001b[0m eta \u001b[36m0:00:00\u001b[0m\n",
            "\u001b[?25h  Preparing metadata (setup.py) ... \u001b[?25l\u001b[?25hdone\n",
            "Building wheels for collected packages: sfpy\n",
            "  Building wheel for sfpy (setup.py) ... \u001b[?25l\u001b[?25hdone\n",
            "  Created wheel for sfpy: filename=sfpy-0.6.0-cp310-cp310-linux_x86_64.whl size=1249910 sha256=062e42b0c4b8da97d8c9aadada62de983e1d06481f0538369feb7c17fe262b2e\n",
            "  Stored in directory: /root/.cache/pip/wheels/a5/40/65/abd538c542e3d89a71667ee50d1de8332babdc59f15d9a16b1\n",
            "Successfully built sfpy\n",
            "Installing collected packages: sfpy\n",
            "Successfully installed sfpy-0.6.0\n"
          ]
        }
      ]
    },
    {
      "cell_type": "code",
      "source": [
        "import math\n",
        "import sfpy\n",
        "import random\n",
        "import time\n",
        "import numpy as np\n",
        "import pandas as pd\n",
        "from sfpy import *"
      ],
      "metadata": {
        "id": "G1coF4RfhY2h"
      },
      "execution_count": null,
      "outputs": []
    },
    {
      "cell_type": "code",
      "execution_count": null,
      "metadata": {
        "id": "5J1rxRH-00Ya",
        "colab": {
          "base_uri": "https://localhost:8080/"
        },
        "outputId": "aca38202-ef1d-41fd-8333-56cf5a19ab6d"
      },
      "outputs": [
        {
          "output_type": "stream",
          "name": "stdout",
          "text": [
            "Floating-Point Result: 0.34084034 with standard deviation 0.24098983 , with average reqiured time:  2.0083284378051756e-06  and summirazed time:  0.20083284378051758\n",
            "Log-Linear Result: 0.3408403542640888 with standard deviation 0.24098983340495841 , with average reqiured time:  4.568898677825928e-06  and summirazed time:  0.4568898677825928\n",
            "Posit Result: 0.34084034 with standard deviation 0.24098983 , with average reqiured time:  1.2502169609069824e-06  and summirazed time:  0.12502169609069824\n",
            "Exact Log-Linear based on posit numbers Result: 0.34084036644483773 with standard deviation 0.2409898416196716 , with average reqiured time:  1.422290802001953e-06  and summirazed time:  0.1422290802001953\n"
          ]
        }
      ],
      "source": [
        "def multiply_add(a, b, c):\n",
        "    return np.float32(a) * np.float32(b) - np.float32(c)\n",
        "\n",
        "def exact_log_linear_multiply_add(a, b, c):\n",
        "    log_a = math.log(np.float32(a))\n",
        "    log_b = math.log(np.float32(b))\n",
        "    return math.exp((log_a) + (log_b)) - np.float32(c)\n",
        "\n",
        "def posit_multiply_add(a, b, c):\n",
        "    a_p = Float32(a)\n",
        "    b_p = Float32(b)\n",
        "    c_p = Float32(c)\n",
        "    return a_p * b_p - c_p\n",
        "\n",
        "def exact_log_linear_multiply_add_posit(a, b, c):\n",
        "    log_a = math.log(a)\n",
        "    log_b = math.log(b)\n",
        "    log_a_posit = Float32(log_a)\n",
        "    log_b_posit = Float32(log_b)\n",
        "    return math.exp(log_a_posit + log_b_posit) - c\n",
        "\n",
        "\n",
        "# c = random.random()\n",
        "# print(\"c = \", c)\n",
        "# a = random.random()\n",
        "# print(\"a = \", a)\n",
        "# b = (c / a)\n",
        "# print(\"b = c / a = \", b)\n",
        "# print(\"a * b - c = \")\n",
        "\n",
        "sum1, time1 = [], []\n",
        "sum2, time2 = [], []\n",
        "sum3, time3 = [], []\n",
        "sum4, time4 = [], []\n",
        "\n",
        "for i in range(100000):\n",
        "    c = random.random()\n",
        "    a = random.random()\n",
        "    time1_start = time.time()\n",
        "    ans1 = multiply_add(a, b, c)\n",
        "    time1_finish = time.time() - time1_start\n",
        "\n",
        "    time2_start = time.time()\n",
        "    ans2 = exact_log_linear_multiply_add(a, b, c)\n",
        "    time2_finish = time.time() - time2_start\n",
        "\n",
        "    time3_start = time.time()\n",
        "    ans3 = posit_multiply_add(a, b, c)\n",
        "    time3_finish = time.time() - time3_start\n",
        "\n",
        "    time4_start = time.time()\n",
        "    ans4 = exact_log_linear_multiply_add_posit(a, b, c)\n",
        "    time4_finish = time.time() - time4_start\n",
        "\n",
        "    sum1.append(abs(ans1))\n",
        "    sum2.append(abs(ans2))\n",
        "    sum3.append(abs(np.float32(ans3)))\n",
        "    sum4.append(abs(ans4))\n",
        "    time1.append(time1_finish)\n",
        "    time2.append(time2_finish)\n",
        "    time3.append(time3_finish)\n",
        "    time4.append(time4_finish)\n",
        "\n",
        "print(\"Floating-Point Result:\", np.average(sum1), \"with standard deviation\", np.std(sum1) , \", with average reqiured time: \", np.average(time1), \" and summirazed time: \", np.sum(time1))\n",
        "print(\"Log-Linear Result:\", np.average(sum2), \"with standard deviation\", np.std(sum2) ,\", with average reqiured time: \", np.average(time2), \" and summirazed time: \", np.sum(time2))\n",
        "print(\"Posit Result:\", np.average(sum3), \"with standard deviation\", np.std(sum3) ,\", with average reqiured time: \", np.average(time3), \" and summirazed time: \", np.sum(time3))\n",
        "print(\"Exact Log-Linear (ELMA) based on posit numbers Result:\", np.average(sum4), \"with standard deviation\", np.std(sum4) ,\", with average reqiured time: \", np.average(time4), \" and summirazed time: \", np.sum(time4))"
      ]
    },
    {
      "cell_type": "code",
      "source": [
        "formats = ['Floating-Point', 'Log-Linear', 'Posit', 'ELMA']\n",
        "value = [np.average(sum1), np.average(sum2), np.average(sum3), np.average(sum4)]\n",
        "feat_importances = pd.DataFrame(regr.feature_importances_, index=formats,\n",
        "                                columns=[\"accuracy\"])\n",
        "feat_importances.sort_values(by='accuracy', ascending=False, inplace=True)\n",
        "feat_importances.plot(kind='bar', figsize=(8,6))"
      ],
      "metadata": {
        "colab": {
          "base_uri": "https://localhost:8080/",
          "height": 249
        },
        "id": "qr_2qVQzYItt",
        "outputId": "ddc87ceb-b9de-4ef8-f7e2-ab95b031b281"
      },
      "execution_count": null,
      "outputs": [
        {
          "output_type": "error",
          "ename": "NameError",
          "evalue": "ignored",
          "traceback": [
            "\u001b[0;31m---------------------------------------------------------------------------\u001b[0m",
            "\u001b[0;31mNameError\u001b[0m                                 Traceback (most recent call last)",
            "\u001b[0;32m<ipython-input-88-8d31bc218cf0>\u001b[0m in \u001b[0;36m<cell line: 3>\u001b[0;34m()\u001b[0m\n\u001b[1;32m      1\u001b[0m \u001b[0mformats\u001b[0m \u001b[0;34m=\u001b[0m \u001b[0;34m[\u001b[0m\u001b[0;34m'Floating-Point'\u001b[0m\u001b[0;34m,\u001b[0m \u001b[0;34m'Log-Linear'\u001b[0m\u001b[0;34m,\u001b[0m \u001b[0;34m'Posit'\u001b[0m\u001b[0;34m,\u001b[0m \u001b[0;34m'ELMA'\u001b[0m\u001b[0;34m]\u001b[0m\u001b[0;34m\u001b[0m\u001b[0;34m\u001b[0m\u001b[0m\n\u001b[1;32m      2\u001b[0m \u001b[0mvalue\u001b[0m \u001b[0;34m=\u001b[0m \u001b[0;34m[\u001b[0m\u001b[0mnp\u001b[0m\u001b[0;34m.\u001b[0m\u001b[0maverage\u001b[0m\u001b[0;34m(\u001b[0m\u001b[0msum1\u001b[0m\u001b[0;34m)\u001b[0m\u001b[0;34m,\u001b[0m \u001b[0mnp\u001b[0m\u001b[0;34m.\u001b[0m\u001b[0maverage\u001b[0m\u001b[0;34m(\u001b[0m\u001b[0msum2\u001b[0m\u001b[0;34m)\u001b[0m\u001b[0;34m,\u001b[0m \u001b[0mnp\u001b[0m\u001b[0;34m.\u001b[0m\u001b[0maverage\u001b[0m\u001b[0;34m(\u001b[0m\u001b[0msum3\u001b[0m\u001b[0;34m)\u001b[0m\u001b[0;34m,\u001b[0m \u001b[0mnp\u001b[0m\u001b[0;34m.\u001b[0m\u001b[0maverage\u001b[0m\u001b[0;34m(\u001b[0m\u001b[0msum4\u001b[0m\u001b[0;34m)\u001b[0m\u001b[0;34m]\u001b[0m\u001b[0;34m\u001b[0m\u001b[0;34m\u001b[0m\u001b[0m\n\u001b[0;32m----> 3\u001b[0;31m feat_importances = pd.DataFrame(regr.feature_importances_, index=formats,\n\u001b[0m\u001b[1;32m      4\u001b[0m                                 columns=[\"accuracy\"])\n\u001b[1;32m      5\u001b[0m \u001b[0mfeat_importances\u001b[0m\u001b[0;34m.\u001b[0m\u001b[0msort_values\u001b[0m\u001b[0;34m(\u001b[0m\u001b[0mby\u001b[0m\u001b[0;34m=\u001b[0m\u001b[0;34m'accuracy'\u001b[0m\u001b[0;34m,\u001b[0m \u001b[0mascending\u001b[0m\u001b[0;34m=\u001b[0m\u001b[0;32mFalse\u001b[0m\u001b[0;34m,\u001b[0m \u001b[0minplace\u001b[0m\u001b[0;34m=\u001b[0m\u001b[0;32mTrue\u001b[0m\u001b[0;34m)\u001b[0m\u001b[0;34m\u001b[0m\u001b[0;34m\u001b[0m\u001b[0m\n",
            "\u001b[0;31mNameError\u001b[0m: name 'regr' is not defined"
          ]
        }
      ]
    }
  ],
  "metadata": {
    "colab": {
      "provenance": []
    },
    "kernelspec": {
      "display_name": "Python 3",
      "name": "python3"
    },
    "language_info": {
      "name": "python"
    }
  },
  "nbformat": 4,
  "nbformat_minor": 0
}